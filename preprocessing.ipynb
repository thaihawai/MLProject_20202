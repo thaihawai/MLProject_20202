{
 "metadata": {
  "language_info": {
   "codemirror_mode": {
    "name": "ipython",
    "version": 3
   },
   "file_extension": ".py",
   "mimetype": "text/x-python",
   "name": "python",
   "nbconvert_exporter": "python",
   "pygments_lexer": "ipython3",
   "version": "3.8.8-final"
  },
  "orig_nbformat": 2,
  "kernelspec": {
   "name": "python388jvsc74a57bd0b9299199ce9c58af1553341ce2d9e4e4b0976ce39f396409bd4b55063aba02d7",
   "display_name": "Python 3.8.8 64-bit"
  },
  "metadata": {
   "interpreter": {
    "hash": "b9299199ce9c58af1553341ce2d9e4e4b0976ce39f396409bd4b55063aba02d7"
   }
  }
 },
 "nbformat": 4,
 "nbformat_minor": 2,
 "cells": [
  {
   "cell_type": "code",
   "execution_count": 1,
   "metadata": {},
   "outputs": [],
   "source": [
    "import numpy as np\n",
    "import pandas as pd\n",
    "from bs4 import BeautifulSoup\n",
    "from html import unescape\n",
    "import unicodedata\n",
    "import re\n",
    "import warnings"
   ]
  },
  {
   "cell_type": "code",
   "execution_count": 2,
   "metadata": {},
   "outputs": [
    {
     "output_type": "execute_result",
     "data": {
      "text/plain": [
       "11    We’re looking for someone who:Proven track record in sourcing across marketing, banking &amp; building a strong, steady pipelineStrong knowledge of internet sourcingFluent in converting passive candidates into new hiresExperience with using recruitment toolsAbility to multi-task and prioritise workloadPrior Applicant Tracking Systems (ATS) experienceWhat you’ll be doing:Manage your recruitment pipeline and find new innovative ways to source candidates   Utilise recruitment tools to handpick &amp; engage passive candidatesWork side-by-side with our Hiring Managers &amp; Recruiter to understand the needs of the businessTailor/master your pitch of the TransferWise vision to attract candidates of varied seniorityProduce reporting metrics\n",
       "Name: requirements, dtype: object"
      ]
     },
     "metadata": {},
     "execution_count": 2
    }
   ],
   "source": [
    "data = pd.read_csv(\"data/fake_job_postings.csv\", delimiter=\",\")\n",
    "pd.options.display.max_colwidth = None\n",
    "data[11:12][\"requirements\"]"
   ]
  },
  {
   "cell_type": "code",
   "execution_count": 3,
   "metadata": {},
   "outputs": [],
   "source": [
    "def beautify(s):\n",
    "    s = str(s)\n",
    "    s = BeautifulSoup(unescape(s), 'lxml').text\n",
    "    s = unicodedata.normalize('NFKC', s)\n",
    "    s = re.sub(r\"([a-z:])([A-Z])\", r\"\\1 \\2\", s)\n",
    "    return s"
   ]
  },
  {
   "cell_type": "code",
   "execution_count": 4,
   "metadata": {},
   "outputs": [
    {
     "output_type": "execute_result",
     "data": {
      "text/plain": [
       "'nan'"
      ]
     },
     "metadata": {},
     "execution_count": 4
    }
   ],
   "source": [
    "s = beautify(float(\"NaN\"))\n",
    "s"
   ]
  },
  {
   "cell_type": "code",
   "execution_count": 5,
   "metadata": {
    "tags": []
   },
   "outputs": [
    {
     "output_type": "execute_result",
     "data": {
      "text/plain": [
       "'We’re looking for someone who: Proven track record in sourcing across marketing, banking & building a strong, steady pipeline Strong knowledge of internet sourcing Fluent in converting passive candidates into new hires Experience with using recruitment tools Ability to multi-task and prioritise workload Prior Applicant Tracking Systems (ATS) experience What you’ll be doing: Manage your recruitment pipeline and find new innovative ways to source candidates   Utilise recruitment tools to handpick & engage passive candidates Work side-by-side with our Hiring Managers & Recruiter to understand the needs of the business Tailor/master your pitch of the Transfer Wise vision to attract candidates of varied seniority Produce reporting metrics'"
      ]
     },
     "metadata": {},
     "execution_count": 5
    }
   ],
   "source": [
    "df = pd.DataFrame(data = data)\n",
    "warnings.filterwarnings(\"ignore\", category=UserWarning, module='bs4')\n",
    "for col in [\"company_profile\", \"description\", \"requirements\", \"benefits\"]:\n",
    "    for i in range(len(df[col])):\n",
    "        df.loc[i, col] = beautify(df.loc[i, col])\n",
    "df[\"requirements\"][11]"
   ]
  },
  {
   "cell_type": "code",
   "execution_count": null,
   "metadata": {},
   "outputs": [],
   "source": []
  }
 ]
}